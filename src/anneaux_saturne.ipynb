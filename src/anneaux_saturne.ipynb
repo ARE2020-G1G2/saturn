{
 "cells": [
  {
   "cell_type": "code",
   "execution_count": 86,
   "metadata": {},
   "outputs": [],
   "source": [
    "import numpy as np\n",
    "import matplotlib.pyplot as plt"
   ]
  },
  {
   "cell_type": "code",
   "execution_count": 87,
   "metadata": {},
   "outputs": [],
   "source": [
    "#constante Gravitationnelle\n",
    "G= 6.6742*10**(-11)\n",
    "#Masse de Saturne\n",
    "Ms=5.683*10**26\n",
    "#rayon min\n",
    "r_min=60000\n",
    "#rayon max\n",
    "r_max=302500",
    "#champ magnétique (T)\n",
    "B_o=1",
    "#masse d'une particule (kg)\n",
    "mp=1\n",
    "#charge (C)\n",
    "q=1\n",
    "#vitesse initiale (m/s)\n",
    "v_ini=0,1\n",
    "#angle particule (radian)\n",
    "a_p=0,5\n",
    "#position x initiale\n",
    "x_int=-0,1\n",
    "#position y initiale\n",
    "y_int=0\n",
    "#position z initiale\n",
    "z_int=0\n",
    "#temps maximal\n"
    "t_max=100\n",
    "w=(q*B_o)/mp\n",
    
   ]
  },
  {
   "cell_type": "code",
   "execution_count": 88,
   "metadata": {},
   "outputs": [],
   "source": [
    "def rayon(r_min, r_max):\n",
    "    \"\"\"int*int->int\"\"\"\n",
    "    return np.random.randint(r_min,r_max)*10**3"
   ]
  },
  {
   "cell_type": "code",
   "execution_count": 89,
   "metadata": {},
   "outputs": [],
   "source": [
    "r=rayon (r_min, r_max)"
   ]
  },
  {
   "cell_type": "code",
   "execution_count": 90,
   "metadata": {},
   "outputs": [],
   "source": [
    "def acceleration(G,Ms,r):\n",
    "    \"\"\"float*float*int*int->float\"\"\"\n",
    "    return (-G*Ms)/r**2"
   ]
  },
  {
   "cell_type": "code",
   "execution_count": 91,
   "metadata": {},
   "outputs": [
    {
     "data": {
      "text/plain": [
       "-5.429134124354859"
      ]
     },
     "execution_count": 91,
     "metadata": {},
     "output_type": "execute_result"
    }
   ],
   "source": [
    "acceleration(G,Ms,r)"
   ]
  },
  {
   "cell_type": "code",
   "execution_count": 92,
   "metadata": {},
   "outputs": [],
   "source": [
    "def vitesse(G,Ms,r):\n",
    "    \"\"\"float*float*int*int->float\"\"\"\n",
    "    return (np.sqrt((G*Ms)/(r)))\n",
    "    "
   ]
  },
  {
   "cell_type": "code",
   "execution_count": 93,
   "metadata": {},
   "outputs": [
    {
     "data": {
      "text/plain": [
       "21302.317870365107"
      ]
     },
     "execution_count": 93,
     "metadata": {},
     "output_type": "execute_result"
    }
   ],
   "source": [
    "vitesse(G,Ms,r)"
   ]
  },
  {
   "cell_type": "code",
   "execution_count": 94,
   "metadata": {},
   "outputs": [],
   "source": [
    "def periode(G,Ms,r):\n",
    "    \"\"\"float*float*int*int->float\"\"\"\n",
    "    #vitesse:float\n",
    "    v=vitesse(G,Ms,r)\n",
    "    return (np.pi*2)*r/(v*86400)\n",
    "    \n",
    "    "
   ]
  },
  {
   "cell_type": "code",
   "execution_count": 95,
   "metadata": {},
   "outputs": [],
   "source": [
    "p=periode(G,Ms,r)*86400"
   ]
  },
  {
   "cell_type": "code",
   "execution_count": 96,
   "metadata": {},
   "outputs": [],
   "source": [
    "def angle(G,Ms,r,t):\n",
    "    #periode\n",
    "    p=periode(G,Ms,r)\n",
    "    #vitesse angulaire\n",
    "    omg=(np.pi*2)/(p*86400)\n",
    "    return (omg*t)*(180/np.pi)"
   ]
  },
  {
   "cell_type": "code",
   "execution_count": 97,
   "metadata": {},
   "outputs": [
    {
     "data": {
      "text/plain": [
       "360.0"
      ]
     },
     "execution_count": 97,
     "metadata": {},
     "output_type": "execute_result"
    }
   ],
   "source": [
    "angle (G,Ms,r,p)"
   ]
  },
  {
   "cell_type": "code",
   "execution_count": 106,
   "metadata": {},
   "outputs": [
    {
     "data": {
      "image/png": "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\n",
      "text/plain": [
       "<Figure size 432x288 with 1 Axes>"
      ]
     },
     "metadata": {
      "needs_background": "light"
     },
     "output_type": "display_data"
    }
   ],
   "source": [
    "def list_t(G,Ms,r):\n",
    "    a=angle(G,Ms,r,0)\n",
    "    i=60\n",
    "    theta=[]\n",
    "    while (a<=360.0):\n",
    "        theta.append(a)\n",
    "        i=i+60\n",
    "        a=angle(G,Ms,r,i)\n",
    "    return theta\n",
    "\n",
    "theta = list_t(G,Ms,r)\n",
    "x1 = r*np.cos(theta)\n",
    "x2 = r*np.sin(theta)\n",
    "\n",
    "fig, ax = plt.subplots(1)\n",
    "\n",
    "ax.plot(x1, x2)\n",
    "ax.set_aspect(1)\n",
    "plt.grid(linestyle='--')\n"
   ]
  },
  "cell_type": "code",
   "execution_count": 126,
   "metadata": {},
   "outputs": [
    {
     "data": {
      "image/png": "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\n",
      "text/plain": [
       "<Figure size 432x288 with 1 Axes>"
      ]
     },
     "metadata": {
      "needs_background": "light"
     },
     "output_type": "display_data"
    }
   ],
   "source": [
    "def miroir_x(B_o,mp,q,v_int,a_p,x_int,w,t_max):\n",
    "    t=0\n",
    "    x=0\n",
    "    liste_x=[]\n",
    "    while (t<=100):\n",
    "        x=x_int +(v_int*cos(a_p)*sin(w*t))/w\n",
    "        t=t+5\n",
    "        liste_x.append(x)\n",
    "    return liste_x\n",
    "\n",
    "def miroir_y(B_o,mp,q,v_int,a_p,y_int,w,t_max):\n",
    "    t=0\n",
    "    y=0\n",
    "    liste_y=[]\n",
    "    while (t<=100):\n",
    "        y=y_int -(v_int*cos(a_p)*cos(w*t))/w\n",
    "        t=t+5\n",
    "        liste_y.append(x)\n",
    "    return liste_y\n",
    "\n",
    "def miroir_z(B_o,mp,q,v_int,a_p,z_int,w,t_max):\n",
    "    t=0\n",
    "    z=0\n",
    "    liste_z=[]\n",
    "    while (t<=100):\n",
    "        z=v_int*sin(a_p)*t\n",
    "        t=t+5\n",
    "        liste_z.append(x)\n",
    "    return liste_z\n",
    "\n",
    "liste_x =miroir_x(B_o,mp,q,v_int,a_p,x_int,w,t_max)\n",
    "liste_y =miroir_y(B_o,mp,q,v_int,a_p,y_int,w,t_max)\n",
    "liste_z =miroir_z(B_o,mp,q,v_int,a_p,z_int,w,t_max)\n",
    "\n",
    "fig, ax = plt.subplots(1)\n",
    "\n",
    "ax.plot(liste_x, liste_y,liste_z)\n",
    "ax.set_aspect(1)\n",
    "plt.grid(linestyle='--')\n"
   ]
  },
  
  {
   "cell_type": "code",
   "execution_count": null,
   "metadata": {},
   "outputs": [],
   "source": [
    "import tkinter as Tk\n",
    "# Creation de la fenetre principale\n",
    "Mafenetre = tk.Tk()\n",
    "Mafenetre.title(\"Saturne\")\n",
    "\n",
    "# Creation d'un widget Canvas\n",
    "Canevas = tk.Canvas(Mafenetre,height=HAUTEUR,width=LARGEUR,bg='black')\n",
    "Canevas.pack(padx=5,pady=5)\n",
    "# Creation d'un objet graphique\n",
    "# Création d'un widget vitesse"
   ]
  }
 ],
 "metadata": {
  "kernelspec": {
   "display_name": "Python 3",
   "language": "python",
   "name": "python3"
  },
  "language_info": {
   "codemirror_mode": {
    "name": "ipython",
    "version": 3
   },
   "file_extension": ".py",
   "mimetype": "text/x-python",
   "name": "python",
   "nbconvert_exporter": "python",
   "pygments_lexer": "ipython3",
   "version": "3.7.4"
  }
 },
 "nbformat": 4,
 "nbformat_minor": 2
}
